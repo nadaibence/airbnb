{
 "cells": [
  {
   "cell_type": "code",
   "execution_count": 29,
   "metadata": {},
   "outputs": [],
   "source": [
    "import pandas as pd\n",
    "import numpy as np"
   ]
  },
  {
   "cell_type": "code",
   "execution_count": 2,
   "metadata": {},
   "outputs": [],
   "source": [
    "df_listing = pd.read_csv('../generated_data/listings_calc.csv')"
   ]
  },
  {
   "cell_type": "code",
   "execution_count": 3,
   "metadata": {},
   "outputs": [],
   "source": [
    "df_sentiment = pd.read_csv('../generated_data/sentiment_calc.csv')"
   ]
  },
  {
   "cell_type": "code",
   "execution_count": 4,
   "metadata": {},
   "outputs": [],
   "source": [
    "df_calendar = pd.read_csv('../generated_data/6month_occupancy.csv')"
   ]
  },
  {
   "cell_type": "markdown",
   "metadata": {},
   "source": [
    "# Joining data together"
   ]
  },
  {
   "cell_type": "code",
   "execution_count": 5,
   "metadata": {},
   "outputs": [
    {
     "data": {
      "text/html": [
       "<div>\n",
       "<style scoped>\n",
       "    .dataframe tbody tr th:only-of-type {\n",
       "        vertical-align: middle;\n",
       "    }\n",
       "\n",
       "    .dataframe tbody tr th {\n",
       "        vertical-align: top;\n",
       "    }\n",
       "\n",
       "    .dataframe thead th {\n",
       "        text-align: right;\n",
       "    }\n",
       "</style>\n",
       "<table border=\"1\" class=\"dataframe\">\n",
       "  <thead>\n",
       "    <tr style=\"text-align: right;\">\n",
       "      <th></th>\n",
       "      <th>id</th>\n",
       "      <th>host_id</th>\n",
       "      <th>host_is_superhost</th>\n",
       "      <th>host_listings_count</th>\n",
       "      <th>host_has_profile_pic</th>\n",
       "      <th>latitude</th>\n",
       "      <th>longitude</th>\n",
       "      <th>property_type</th>\n",
       "      <th>accommodates</th>\n",
       "      <th>bathrooms</th>\n",
       "      <th>...</th>\n",
       "      <th>neighbour_Passy</th>\n",
       "      <th>neighbour_Popincourt</th>\n",
       "      <th>neighbour_Reuilly</th>\n",
       "      <th>neighbour_Temple</th>\n",
       "      <th>neighbour_Vaugirard</th>\n",
       "      <th>neighbour_Élysée</th>\n",
       "      <th>room_Entire home/apt</th>\n",
       "      <th>room_Hotel room</th>\n",
       "      <th>room_Private room</th>\n",
       "      <th>room_Shared room</th>\n",
       "    </tr>\n",
       "  </thead>\n",
       "  <tbody>\n",
       "    <tr>\n",
       "      <th>0</th>\n",
       "      <td>33065009</td>\n",
       "      <td>28313443</td>\n",
       "      <td>0</td>\n",
       "      <td>72.0</td>\n",
       "      <td>1</td>\n",
       "      <td>48.86847</td>\n",
       "      <td>2.35209</td>\n",
       "      <td>1</td>\n",
       "      <td>8</td>\n",
       "      <td>2.0</td>\n",
       "      <td>...</td>\n",
       "      <td>0</td>\n",
       "      <td>0</td>\n",
       "      <td>0</td>\n",
       "      <td>0</td>\n",
       "      <td>0</td>\n",
       "      <td>0</td>\n",
       "      <td>1</td>\n",
       "      <td>0</td>\n",
       "      <td>0</td>\n",
       "      <td>0</td>\n",
       "    </tr>\n",
       "    <tr>\n",
       "      <th>1</th>\n",
       "      <td>33008241</td>\n",
       "      <td>248419822</td>\n",
       "      <td>0</td>\n",
       "      <td>1.0</td>\n",
       "      <td>1</td>\n",
       "      <td>48.86512</td>\n",
       "      <td>2.35333</td>\n",
       "      <td>1</td>\n",
       "      <td>3</td>\n",
       "      <td>1.0</td>\n",
       "      <td>...</td>\n",
       "      <td>0</td>\n",
       "      <td>0</td>\n",
       "      <td>0</td>\n",
       "      <td>1</td>\n",
       "      <td>0</td>\n",
       "      <td>0</td>\n",
       "      <td>1</td>\n",
       "      <td>0</td>\n",
       "      <td>0</td>\n",
       "      <td>0</td>\n",
       "    </tr>\n",
       "    <tr>\n",
       "      <th>2</th>\n",
       "      <td>39024702</td>\n",
       "      <td>115296025</td>\n",
       "      <td>0</td>\n",
       "      <td>32.0</td>\n",
       "      <td>1</td>\n",
       "      <td>48.86914</td>\n",
       "      <td>2.34817</td>\n",
       "      <td>1</td>\n",
       "      <td>4</td>\n",
       "      <td>1.0</td>\n",
       "      <td>...</td>\n",
       "      <td>0</td>\n",
       "      <td>0</td>\n",
       "      <td>0</td>\n",
       "      <td>0</td>\n",
       "      <td>0</td>\n",
       "      <td>0</td>\n",
       "      <td>1</td>\n",
       "      <td>0</td>\n",
       "      <td>0</td>\n",
       "      <td>0</td>\n",
       "    </tr>\n",
       "  </tbody>\n",
       "</table>\n",
       "<p>3 rows × 51 columns</p>\n",
       "</div>"
      ],
      "text/plain": [
       "         id    host_id  host_is_superhost  host_listings_count  \\\n",
       "0  33065009   28313443                  0                 72.0   \n",
       "1  33008241  248419822                  0                  1.0   \n",
       "2  39024702  115296025                  0                 32.0   \n",
       "\n",
       "   host_has_profile_pic  latitude  longitude  property_type  accommodates  \\\n",
       "0                     1  48.86847    2.35209              1             8   \n",
       "1                     1  48.86512    2.35333              1             3   \n",
       "2                     1  48.86914    2.34817              1             4   \n",
       "\n",
       "   bathrooms  ...  neighbour_Passy  neighbour_Popincourt  neighbour_Reuilly  \\\n",
       "0        2.0  ...                0                     0                  0   \n",
       "1        1.0  ...                0                     0                  0   \n",
       "2        1.0  ...                0                     0                  0   \n",
       "\n",
       "   neighbour_Temple  neighbour_Vaugirard  neighbour_Élysée  \\\n",
       "0                 0                    0                 0   \n",
       "1                 1                    0                 0   \n",
       "2                 0                    0                 0   \n",
       "\n",
       "   room_Entire home/apt  room_Hotel room  room_Private room  room_Shared room  \n",
       "0                     1                0                  0                 0  \n",
       "1                     1                0                  0                 0  \n",
       "2                     1                0                  0                 0  \n",
       "\n",
       "[3 rows x 51 columns]"
      ]
     },
     "execution_count": 5,
     "metadata": {},
     "output_type": "execute_result"
    }
   ],
   "source": [
    "df_listing.head(3)"
   ]
  },
  {
   "cell_type": "code",
   "execution_count": 6,
   "metadata": {},
   "outputs": [
    {
     "data": {
      "text/html": [
       "<div>\n",
       "<style scoped>\n",
       "    .dataframe tbody tr th:only-of-type {\n",
       "        vertical-align: middle;\n",
       "    }\n",
       "\n",
       "    .dataframe tbody tr th {\n",
       "        vertical-align: top;\n",
       "    }\n",
       "\n",
       "    .dataframe thead th {\n",
       "        text-align: right;\n",
       "    }\n",
       "</style>\n",
       "<table border=\"1\" class=\"dataframe\">\n",
       "  <thead>\n",
       "    <tr style=\"text-align: right;\">\n",
       "      <th></th>\n",
       "      <th>index</th>\n",
       "      <th>listingid</th>\n",
       "      <th>sentimentscore</th>\n",
       "      <th>neutralreview</th>\n",
       "      <th>goodreview</th>\n",
       "      <th>badreview</th>\n",
       "    </tr>\n",
       "  </thead>\n",
       "  <tbody>\n",
       "    <tr>\n",
       "      <th>0</th>\n",
       "      <td>0</td>\n",
       "      <td>3109</td>\n",
       "      <td>0.000000</td>\n",
       "      <td>5</td>\n",
       "      <td>0</td>\n",
       "      <td>0</td>\n",
       "    </tr>\n",
       "    <tr>\n",
       "      <th>1</th>\n",
       "      <td>1</td>\n",
       "      <td>5396</td>\n",
       "      <td>0.827062</td>\n",
       "      <td>0</td>\n",
       "      <td>168</td>\n",
       "      <td>6</td>\n",
       "    </tr>\n",
       "    <tr>\n",
       "      <th>2</th>\n",
       "      <td>2</td>\n",
       "      <td>7397</td>\n",
       "      <td>0.857872</td>\n",
       "      <td>0</td>\n",
       "      <td>215</td>\n",
       "      <td>4</td>\n",
       "    </tr>\n",
       "  </tbody>\n",
       "</table>\n",
       "</div>"
      ],
      "text/plain": [
       "   index  listingid  sentimentscore  neutralreview  goodreview  badreview\n",
       "0      0       3109        0.000000              5           0          0\n",
       "1      1       5396        0.827062              0         168          6\n",
       "2      2       7397        0.857872              0         215          4"
      ]
     },
     "execution_count": 6,
     "metadata": {},
     "output_type": "execute_result"
    }
   ],
   "source": [
    "df_sentiment.head(3)"
   ]
  },
  {
   "cell_type": "code",
   "execution_count": 8,
   "metadata": {},
   "outputs": [],
   "source": [
    "del df_sentiment['index']"
   ]
  },
  {
   "cell_type": "code",
   "execution_count": 7,
   "metadata": {},
   "outputs": [
    {
     "data": {
      "text/html": [
       "<div>\n",
       "<style scoped>\n",
       "    .dataframe tbody tr th:only-of-type {\n",
       "        vertical-align: middle;\n",
       "    }\n",
       "\n",
       "    .dataframe tbody tr th {\n",
       "        vertical-align: top;\n",
       "    }\n",
       "\n",
       "    .dataframe thead th {\n",
       "        text-align: right;\n",
       "    }\n",
       "</style>\n",
       "<table border=\"1\" class=\"dataframe\">\n",
       "  <thead>\n",
       "    <tr style=\"text-align: right;\">\n",
       "      <th></th>\n",
       "      <th>listing_id</th>\n",
       "      <th>occupied</th>\n",
       "    </tr>\n",
       "  </thead>\n",
       "  <tbody>\n",
       "    <tr>\n",
       "      <th>0</th>\n",
       "      <td>3109</td>\n",
       "      <td>0.450331</td>\n",
       "    </tr>\n",
       "    <tr>\n",
       "      <th>1</th>\n",
       "      <td>5396</td>\n",
       "      <td>0.370861</td>\n",
       "    </tr>\n",
       "    <tr>\n",
       "      <th>2</th>\n",
       "      <td>7397</td>\n",
       "      <td>0.364238</td>\n",
       "    </tr>\n",
       "  </tbody>\n",
       "</table>\n",
       "</div>"
      ],
      "text/plain": [
       "   listing_id  occupied\n",
       "0        3109  0.450331\n",
       "1        5396  0.370861\n",
       "2        7397  0.364238"
      ]
     },
     "execution_count": 7,
     "metadata": {},
     "output_type": "execute_result"
    }
   ],
   "source": [
    "df_calendar.head(3)"
   ]
  },
  {
   "cell_type": "code",
   "execution_count": 12,
   "metadata": {},
   "outputs": [],
   "source": [
    "df = pd.merge(left=df_calendar, \n",
    "              right=df_sentiment,\n",
    "              left_on='listing_id',\n",
    "              right_on='listingid',\n",
    "              how='inner')\n",
    "\n",
    "del df['listingid']"
   ]
  },
  {
   "cell_type": "code",
   "execution_count": 13,
   "metadata": {},
   "outputs": [
    {
     "data": {
      "text/html": [
       "<div>\n",
       "<style scoped>\n",
       "    .dataframe tbody tr th:only-of-type {\n",
       "        vertical-align: middle;\n",
       "    }\n",
       "\n",
       "    .dataframe tbody tr th {\n",
       "        vertical-align: top;\n",
       "    }\n",
       "\n",
       "    .dataframe thead th {\n",
       "        text-align: right;\n",
       "    }\n",
       "</style>\n",
       "<table border=\"1\" class=\"dataframe\">\n",
       "  <thead>\n",
       "    <tr style=\"text-align: right;\">\n",
       "      <th></th>\n",
       "      <th>listing_id</th>\n",
       "      <th>occupied</th>\n",
       "      <th>sentimentscore</th>\n",
       "      <th>neutralreview</th>\n",
       "      <th>goodreview</th>\n",
       "      <th>badreview</th>\n",
       "    </tr>\n",
       "  </thead>\n",
       "  <tbody>\n",
       "    <tr>\n",
       "      <th>0</th>\n",
       "      <td>3109</td>\n",
       "      <td>0.450331</td>\n",
       "      <td>0.000000</td>\n",
       "      <td>5</td>\n",
       "      <td>0</td>\n",
       "      <td>0</td>\n",
       "    </tr>\n",
       "    <tr>\n",
       "      <th>1</th>\n",
       "      <td>5396</td>\n",
       "      <td>0.370861</td>\n",
       "      <td>0.827062</td>\n",
       "      <td>0</td>\n",
       "      <td>168</td>\n",
       "      <td>6</td>\n",
       "    </tr>\n",
       "    <tr>\n",
       "      <th>2</th>\n",
       "      <td>7397</td>\n",
       "      <td>0.364238</td>\n",
       "      <td>0.857872</td>\n",
       "      <td>0</td>\n",
       "      <td>215</td>\n",
       "      <td>4</td>\n",
       "    </tr>\n",
       "  </tbody>\n",
       "</table>\n",
       "</div>"
      ],
      "text/plain": [
       "   listing_id  occupied  sentimentscore  neutralreview  goodreview  badreview\n",
       "0        3109  0.450331        0.000000              5           0          0\n",
       "1        5396  0.370861        0.827062              0         168          6\n",
       "2        7397  0.364238        0.857872              0         215          4"
      ]
     },
     "execution_count": 13,
     "metadata": {},
     "output_type": "execute_result"
    }
   ],
   "source": [
    "df.head(3)"
   ]
  },
  {
   "cell_type": "code",
   "execution_count": 14,
   "metadata": {},
   "outputs": [],
   "source": [
    "df = pd.merge(left=df,\n",
    "              right=df_listing,\n",
    "              left_on='listing_id',\n",
    "              right_on='id',\n",
    "              how='inner')"
   ]
  },
  {
   "cell_type": "code",
   "execution_count": 17,
   "metadata": {},
   "outputs": [
    {
     "data": {
      "text/html": [
       "<div>\n",
       "<style scoped>\n",
       "    .dataframe tbody tr th:only-of-type {\n",
       "        vertical-align: middle;\n",
       "    }\n",
       "\n",
       "    .dataframe tbody tr th {\n",
       "        vertical-align: top;\n",
       "    }\n",
       "\n",
       "    .dataframe thead th {\n",
       "        text-align: right;\n",
       "    }\n",
       "</style>\n",
       "<table border=\"1\" class=\"dataframe\">\n",
       "  <thead>\n",
       "    <tr style=\"text-align: right;\">\n",
       "      <th></th>\n",
       "      <th>listing_id</th>\n",
       "      <th>occupied</th>\n",
       "      <th>sentimentscore</th>\n",
       "      <th>neutralreview</th>\n",
       "      <th>goodreview</th>\n",
       "      <th>badreview</th>\n",
       "      <th>id</th>\n",
       "      <th>host_id</th>\n",
       "      <th>host_is_superhost</th>\n",
       "      <th>host_listings_count</th>\n",
       "      <th>...</th>\n",
       "      <th>neighbour_Passy</th>\n",
       "      <th>neighbour_Popincourt</th>\n",
       "      <th>neighbour_Reuilly</th>\n",
       "      <th>neighbour_Temple</th>\n",
       "      <th>neighbour_Vaugirard</th>\n",
       "      <th>neighbour_Élysée</th>\n",
       "      <th>room_Entire home/apt</th>\n",
       "      <th>room_Hotel room</th>\n",
       "      <th>room_Private room</th>\n",
       "      <th>room_Shared room</th>\n",
       "    </tr>\n",
       "  </thead>\n",
       "  <tbody>\n",
       "    <tr>\n",
       "      <th>0</th>\n",
       "      <td>3109</td>\n",
       "      <td>0.450331</td>\n",
       "      <td>0.000000</td>\n",
       "      <td>5</td>\n",
       "      <td>0</td>\n",
       "      <td>0</td>\n",
       "      <td>3109</td>\n",
       "      <td>3631</td>\n",
       "      <td>0</td>\n",
       "      <td>1.0</td>\n",
       "      <td>...</td>\n",
       "      <td>0</td>\n",
       "      <td>0</td>\n",
       "      <td>0</td>\n",
       "      <td>0</td>\n",
       "      <td>0</td>\n",
       "      <td>0</td>\n",
       "      <td>1</td>\n",
       "      <td>0</td>\n",
       "      <td>0</td>\n",
       "      <td>0</td>\n",
       "    </tr>\n",
       "    <tr>\n",
       "      <th>1</th>\n",
       "      <td>5396</td>\n",
       "      <td>0.370861</td>\n",
       "      <td>0.827062</td>\n",
       "      <td>0</td>\n",
       "      <td>168</td>\n",
       "      <td>6</td>\n",
       "      <td>5396</td>\n",
       "      <td>7903</td>\n",
       "      <td>0</td>\n",
       "      <td>1.0</td>\n",
       "      <td>...</td>\n",
       "      <td>0</td>\n",
       "      <td>0</td>\n",
       "      <td>0</td>\n",
       "      <td>0</td>\n",
       "      <td>0</td>\n",
       "      <td>0</td>\n",
       "      <td>1</td>\n",
       "      <td>0</td>\n",
       "      <td>0</td>\n",
       "      <td>0</td>\n",
       "    </tr>\n",
       "    <tr>\n",
       "      <th>2</th>\n",
       "      <td>7397</td>\n",
       "      <td>0.364238</td>\n",
       "      <td>0.857872</td>\n",
       "      <td>0</td>\n",
       "      <td>215</td>\n",
       "      <td>4</td>\n",
       "      <td>7397</td>\n",
       "      <td>2626</td>\n",
       "      <td>0</td>\n",
       "      <td>2.0</td>\n",
       "      <td>...</td>\n",
       "      <td>0</td>\n",
       "      <td>0</td>\n",
       "      <td>0</td>\n",
       "      <td>0</td>\n",
       "      <td>0</td>\n",
       "      <td>0</td>\n",
       "      <td>1</td>\n",
       "      <td>0</td>\n",
       "      <td>0</td>\n",
       "      <td>0</td>\n",
       "    </tr>\n",
       "  </tbody>\n",
       "</table>\n",
       "<p>3 rows × 57 columns</p>\n",
       "</div>"
      ],
      "text/plain": [
       "   listing_id  occupied  sentimentscore  neutralreview  goodreview  badreview  \\\n",
       "0        3109  0.450331        0.000000              5           0          0   \n",
       "1        5396  0.370861        0.827062              0         168          6   \n",
       "2        7397  0.364238        0.857872              0         215          4   \n",
       "\n",
       "     id  host_id  host_is_superhost  host_listings_count  ...  \\\n",
       "0  3109     3631                  0                  1.0  ...   \n",
       "1  5396     7903                  0                  1.0  ...   \n",
       "2  7397     2626                  0                  2.0  ...   \n",
       "\n",
       "   neighbour_Passy  neighbour_Popincourt  neighbour_Reuilly  neighbour_Temple  \\\n",
       "0                0                     0                  0                 0   \n",
       "1                0                     0                  0                 0   \n",
       "2                0                     0                  0                 0   \n",
       "\n",
       "   neighbour_Vaugirard  neighbour_Élysée  room_Entire home/apt  \\\n",
       "0                    0                 0                     1   \n",
       "1                    0                 0                     1   \n",
       "2                    0                 0                     1   \n",
       "\n",
       "   room_Hotel room  room_Private room  room_Shared room  \n",
       "0                0                  0                 0  \n",
       "1                0                  0                 0  \n",
       "2                0                  0                 0  \n",
       "\n",
       "[3 rows x 57 columns]"
      ]
     },
     "execution_count": 17,
     "metadata": {},
     "output_type": "execute_result"
    }
   ],
   "source": [
    "df.head(3)"
   ]
  },
  {
   "cell_type": "markdown",
   "metadata": {},
   "source": [
    "# Building ML model to predict occupancy rate"
   ]
  },
  {
   "cell_type": "code",
   "execution_count": 18,
   "metadata": {},
   "outputs": [],
   "source": [
    "from sklearn.model_selection import train_test_split\n",
    "from sklearn.ensemble import GradientBoostingRegressor"
   ]
  },
  {
   "cell_type": "code",
   "execution_count": 20,
   "metadata": {},
   "outputs": [],
   "source": [
    "target = 'occupied'\n",
    "input_cols = ['host_is_superhost', 'host_listings_count', 'host_has_profile_pic', 'property_type', 'accommodates',\n",
    "              'bathrooms', 'bedrooms', 'beds', 'bed_type', 'security_deposit', 'cleaning_fee', 'minimum_nights',\n",
    "              'number_of_reviews', 'review_scores_rating', 'review_scores_accuracy', 'review_scores_cleanliness',\n",
    "              'review_scores_checkin', 'review_scores_communication', 'review_scores_location', 'review_scores_value',\n",
    "              'reviews_per_month', 'dist_from_centre', 'neighbour_Batignolles-Monceau', 'neighbour_Bourse',\n",
    "              'neighbour_Buttes-Chaumont', 'neighbour_Buttes-Montmartre', 'neighbour_Entrepôt', 'neighbour_Gobelins',\n",
    "              'neighbour_Hôtel-de-Ville', 'neighbour_Louvre', 'neighbour_Luxembourg', 'neighbour_Ménilmontant',\n",
    "              'neighbour_Observatoire', 'neighbour_Opéra', 'neighbour_Palais-Bourbon', 'neighbour_Panthéon',\n",
    "              'neighbour_Passy', 'neighbour_Popincourt', 'neighbour_Reuilly', 'neighbour_Temple', 'neighbour_Vaugirard',\n",
    "              'neighbour_Élysée', 'room_Entire home/apt', 'room_Hotel room', 'room_Private room', 'room_Shared room',\n",
    "              'sentimentscore', 'neutralreview', 'goodreview', 'badreview', 'price']\n"
   ]
  },
  {
   "cell_type": "code",
   "execution_count": 21,
   "metadata": {},
   "outputs": [],
   "source": [
    "X_train, X_test, y_train, y_test = train_test_split(df[input_cols], df[target], test_size=0.2, random_state=42)"
   ]
  },
  {
   "cell_type": "code",
   "execution_count": 22,
   "metadata": {},
   "outputs": [],
   "source": [
    "gbm = GradientBoostingRegressor(n_estimators=300, max_depth=1, random_state=42)"
   ]
  },
  {
   "cell_type": "code",
   "execution_count": 23,
   "metadata": {},
   "outputs": [
    {
     "data": {
      "text/plain": [
       "GradientBoostingRegressor(alpha=0.9, criterion='friedman_mse', init=None,\n",
       "             learning_rate=0.1, loss='ls', max_depth=10, max_features=None,\n",
       "             max_leaf_nodes=None, min_impurity_decrease=0.0,\n",
       "             min_impurity_split=None, min_samples_leaf=1,\n",
       "             min_samples_split=2, min_weight_fraction_leaf=0.0,\n",
       "             n_estimators=300, n_iter_no_change=None, presort='auto',\n",
       "             random_state=42, subsample=1.0, tol=0.0001,\n",
       "             validation_fraction=0.1, verbose=0, warm_start=False)"
      ]
     },
     "execution_count": 23,
     "metadata": {},
     "output_type": "execute_result"
    }
   ],
   "source": [
    "gbm.fit(X_train[input_cols], y_train)"
   ]
  },
  {
   "cell_type": "code",
   "execution_count": 24,
   "metadata": {},
   "outputs": [],
   "source": [
    "df_importances = pd.DataFrame(data=gbm.feature_importances_, columns=['importances'], index=input_cols)"
   ]
  },
  {
   "cell_type": "code",
   "execution_count": 26,
   "metadata": {},
   "outputs": [
    {
     "data": {
      "text/html": [
       "<div>\n",
       "<style scoped>\n",
       "    .dataframe tbody tr th:only-of-type {\n",
       "        vertical-align: middle;\n",
       "    }\n",
       "\n",
       "    .dataframe tbody tr th {\n",
       "        vertical-align: top;\n",
       "    }\n",
       "\n",
       "    .dataframe thead th {\n",
       "        text-align: right;\n",
       "    }\n",
       "</style>\n",
       "<table border=\"1\" class=\"dataframe\">\n",
       "  <thead>\n",
       "    <tr style=\"text-align: right;\">\n",
       "      <th></th>\n",
       "      <th>importances</th>\n",
       "    </tr>\n",
       "  </thead>\n",
       "  <tbody>\n",
       "    <tr>\n",
       "      <th>host_listings_count</th>\n",
       "      <td>0.187353</td>\n",
       "    </tr>\n",
       "    <tr>\n",
       "      <th>reviews_per_month</th>\n",
       "      <td>0.110095</td>\n",
       "    </tr>\n",
       "    <tr>\n",
       "      <th>dist_from_centre</th>\n",
       "      <td>0.086395</td>\n",
       "    </tr>\n",
       "    <tr>\n",
       "      <th>cleaning_fee</th>\n",
       "      <td>0.072639</td>\n",
       "    </tr>\n",
       "    <tr>\n",
       "      <th>sentimentscore</th>\n",
       "      <td>0.072377</td>\n",
       "    </tr>\n",
       "    <tr>\n",
       "      <th>number_of_reviews</th>\n",
       "      <td>0.067108</td>\n",
       "    </tr>\n",
       "    <tr>\n",
       "      <th>goodreview</th>\n",
       "      <td>0.053555</td>\n",
       "    </tr>\n",
       "    <tr>\n",
       "      <th>security_deposit</th>\n",
       "      <td>0.047702</td>\n",
       "    </tr>\n",
       "    <tr>\n",
       "      <th>minimum_nights</th>\n",
       "      <td>0.045843</td>\n",
       "    </tr>\n",
       "    <tr>\n",
       "      <th>review_scores_rating</th>\n",
       "      <td>0.027479</td>\n",
       "    </tr>\n",
       "  </tbody>\n",
       "</table>\n",
       "</div>"
      ],
      "text/plain": [
       "                      importances\n",
       "host_listings_count      0.187353\n",
       "reviews_per_month        0.110095\n",
       "dist_from_centre         0.086395\n",
       "cleaning_fee             0.072639\n",
       "sentimentscore           0.072377\n",
       "number_of_reviews        0.067108\n",
       "goodreview               0.053555\n",
       "security_deposit         0.047702\n",
       "minimum_nights           0.045843\n",
       "review_scores_rating     0.027479"
      ]
     },
     "execution_count": 26,
     "metadata": {},
     "output_type": "execute_result"
    }
   ],
   "source": [
    "df_importances.sort_values(by='importances', ascending=False).head(10)"
   ]
  },
  {
   "cell_type": "markdown",
   "metadata": {},
   "source": [
    "# Visual"
   ]
  },
  {
   "cell_type": "code",
   "execution_count": 34,
   "metadata": {},
   "outputs": [],
   "source": [
    "import matplotlib.pyplot as plt"
   ]
  },
  {
   "cell_type": "code",
   "execution_count": 37,
   "metadata": {},
   "outputs": [
    {
     "data": {
      "text/plain": [
       "0.01"
      ]
     },
     "execution_count": 37,
     "metadata": {},
     "output_type": "execute_result"
    }
   ],
   "source": [
    "df['reviews_per_month'].min()"
   ]
  },
  {
   "cell_type": "code",
   "execution_count": 38,
   "metadata": {},
   "outputs": [
    {
     "data": {
      "text/plain": [
       "47.38"
      ]
     },
     "execution_count": 38,
     "metadata": {},
     "output_type": "execute_result"
    }
   ],
   "source": [
    "df['reviews_per_month'].max()"
   ]
  },
  {
   "cell_type": "code",
   "execution_count": 89,
   "metadata": {},
   "outputs": [],
   "source": [
    "reviews = [x for x in range(-100, 100, 2)]\n",
    "ppd = {}\n",
    "for rev in reviews:\n",
    "    temp_df = df.copy()\n",
    "    temp_df['sentimentscore'] = rev / 100\n",
    "    temp_df['pred'] = gbm.predict(temp_df[input_cols])\n",
    "    temp_df['diff'] = temp_df['pred'] - temp_df[target]\n",
    "    ppd[rev/100] = temp_df['diff'].mean()"
   ]
  },
  {
   "cell_type": "code",
   "execution_count": 90,
   "metadata": {},
   "outputs": [],
   "source": [
    "df_plot = pd.DataFrame(data=ppd.values(), columns=['values'], index=ppd.keys())"
   ]
  },
  {
   "cell_type": "code",
   "execution_count": 91,
   "metadata": {},
   "outputs": [
    {
     "data": {
      "text/plain": [
       "Text(0, 0.5, '+ / - Avg booked rate change for the next 6 month')"
      ]
     },
     "execution_count": 91,
     "metadata": {},
     "output_type": "execute_result"
    },
    {
     "data": {
      "image/png": "[encoded data removed]",
      "text/plain": [
       "<Figure size 1080x720 with 1 Axes>"
      ]
     },
     "metadata": {
      "needs_background": "light"
     },
     "output_type": "display_data"
    }
   ],
   "source": [
    "df_plot.plot(kind='bar', figsize=(15,10))\n",
    "plt.title('The diagram shows how much the avg sentiment score affects the booked rate of an apartment')\n",
    "plt.xlabel('Avg sentiment score')\n",
    "plt.ylabel('+ / - Avg booked rate change for the next 6 month')"
   ]
  },
  {
   "cell_type": "code",
   "execution_count": 88,
   "metadata": {},
   "outputs": [
    {
     "data": {
      "image/png": "[encoded data removed]",
      "text/plain": [
       "<Figure size 1080x720 with 1 Axes>"
      ]
     },
     "metadata": {
      "needs_background": "light"
     },
     "output_type": "display_data"
    }
   ],
   "source": [
    "df['sentimentscore'].hist(bins=50, figsize=(15, 10))\n",
    "plt.show()"
   ]
  },
  {
   "cell_type": "markdown",
   "metadata": {},
   "source": [
    "# What could the big diff mean at sentiments score 0?"
   ]
  },
  {
   "cell_type": "code",
   "execution_count": 71,
   "metadata": {},
   "outputs": [
    {
     "name": "stderr",
     "output_type": "stream",
     "text": [
      "/anaconda3/lib/python3.7/site-packages/IPython/core/interactiveshell.py:3049: DtypeWarning: Columns (0,1,2,3,4,5,6,8,9) have mixed types. Specify dtype option on import or set low_memory=False.\n",
      "  interactivity=interactivity, compiler=compiler, result=result)\n"
     ]
    }
   ],
   "source": [
    "df_exp = pd.read_csv('../generated_data/sentiment.csv')"
   ]
  },
  {
   "cell_type": "code",
   "execution_count": 72,
   "metadata": {},
   "outputs": [],
   "source": [
    "df_exp = df_exp[df_exp['lang_clean'] == 'en']"
   ]
  },
  {
   "cell_type": "code",
   "execution_count": 73,
   "metadata": {},
   "outputs": [
    {
     "data": {
      "text/plain": [
       "(821550, 10)"
      ]
     },
     "execution_count": 73,
     "metadata": {},
     "output_type": "execute_result"
    }
   ],
   "source": [
    "df_exp.shape"
   ]
  },
  {
   "cell_type": "code",
   "execution_count": 74,
   "metadata": {},
   "outputs": [],
   "source": [
    "df_exp = df_exp[df_exp['sentiment_score'] == 0]"
   ]
  },
  {
   "cell_type": "code",
   "execution_count": 75,
   "metadata": {},
   "outputs": [
    {
     "data": {
      "text/plain": [
       "(32192, 10)"
      ]
     },
     "execution_count": 75,
     "metadata": {},
     "output_type": "execute_result"
    }
   ],
   "source": [
    "df_exp.shape"
   ]
  },
  {
   "cell_type": "code",
   "execution_count": 76,
   "metadata": {},
   "outputs": [
    {
     "data": {
      "text/html": [
       "<div>\n",
       "<style scoped>\n",
       "    .dataframe tbody tr th:only-of-type {\n",
       "        vertical-align: middle;\n",
       "    }\n",
       "\n",
       "    .dataframe tbody tr th {\n",
       "        vertical-align: top;\n",
       "    }\n",
       "\n",
       "    .dataframe thead th {\n",
       "        text-align: right;\n",
       "    }\n",
       "</style>\n",
       "<table border=\"1\" class=\"dataframe\">\n",
       "  <thead>\n",
       "    <tr style=\"text-align: right;\">\n",
       "      <th></th>\n",
       "      <th>listing_id</th>\n",
       "      <th>id</th>\n",
       "      <th>date</th>\n",
       "      <th>reviewer_id</th>\n",
       "      <th>reviewer_name</th>\n",
       "      <th>comments</th>\n",
       "      <th>sentiment</th>\n",
       "      <th>sentiment_score</th>\n",
       "      <th>language</th>\n",
       "      <th>lang_clean</th>\n",
       "    </tr>\n",
       "  </thead>\n",
       "  <tbody>\n",
       "    <tr>\n",
       "      <th>0</th>\n",
       "      <td>3109</td>\n",
       "      <td>123127969</td>\n",
       "      <td>2016-12-27</td>\n",
       "      <td>12389804</td>\n",
       "      <td>Sophie</td>\n",
       "      <td>The host canceled this reservation the day bef...</td>\n",
       "      <td>{'neg': 0.0, 'neu': 1.0, 'pos': 0.0, 'compound...</td>\n",
       "      <td>0.0</td>\n",
       "      <td>[en:0.999996915747983]</td>\n",
       "      <td>en</td>\n",
       "    </tr>\n",
       "    <tr>\n",
       "      <th>1</th>\n",
       "      <td>3109</td>\n",
       "      <td>123274144</td>\n",
       "      <td>2016-12-28</td>\n",
       "      <td>67553494</td>\n",
       "      <td>Tom'S</td>\n",
       "      <td>The host canceled this reservation 2 days befo...</td>\n",
       "      <td>{'neg': 0.0, 'neu': 1.0, 'pos': 0.0, 'compound...</td>\n",
       "      <td>0.0</td>\n",
       "      <td>[en:0.9999987775553616]</td>\n",
       "      <td>en</td>\n",
       "    </tr>\n",
       "    <tr>\n",
       "      <th>4</th>\n",
       "      <td>3109</td>\n",
       "      <td>234257457</td>\n",
       "      <td>2018-02-12</td>\n",
       "      <td>3539452</td>\n",
       "      <td>Dominique</td>\n",
       "      <td>The host canceled this reservation 8 days befo...</td>\n",
       "      <td>{'neg': 0.0, 'neu': 1.0, 'pos': 0.0, 'compound...</td>\n",
       "      <td>0.0</td>\n",
       "      <td>[en:0.9999971994223529]</td>\n",
       "      <td>en</td>\n",
       "    </tr>\n",
       "  </tbody>\n",
       "</table>\n",
       "</div>"
      ],
      "text/plain": [
       "  listing_id         id        date reviewer_id reviewer_name  \\\n",
       "0       3109  123127969  2016-12-27    12389804        Sophie   \n",
       "1       3109  123274144  2016-12-28    67553494         Tom'S   \n",
       "4       3109  234257457  2018-02-12     3539452     Dominique   \n",
       "\n",
       "                                            comments  \\\n",
       "0  The host canceled this reservation the day bef...   \n",
       "1  The host canceled this reservation 2 days befo...   \n",
       "4  The host canceled this reservation 8 days befo...   \n",
       "\n",
       "                                           sentiment  sentiment_score  \\\n",
       "0  {'neg': 0.0, 'neu': 1.0, 'pos': 0.0, 'compound...              0.0   \n",
       "1  {'neg': 0.0, 'neu': 1.0, 'pos': 0.0, 'compound...              0.0   \n",
       "4  {'neg': 0.0, 'neu': 1.0, 'pos': 0.0, 'compound...              0.0   \n",
       "\n",
       "                  language lang_clean  \n",
       "0   [en:0.999996915747983]         en  \n",
       "1  [en:0.9999987775553616]         en  \n",
       "4  [en:0.9999971994223529]         en  "
      ]
     },
     "execution_count": 76,
     "metadata": {},
     "output_type": "execute_result"
    }
   ],
   "source": [
    "df_exp.head(3)"
   ]
  },
  {
   "cell_type": "code",
   "execution_count": 81,
   "metadata": {},
   "outputs": [],
   "source": [
    "df_exp['cancel'] = df_exp['comments'].apply(lambda x: 1 if 'cancel' in x.lower() else 0 )"
   ]
  },
  {
   "cell_type": "code",
   "execution_count": 82,
   "metadata": {},
   "outputs": [
    {
     "data": {
      "text/plain": [
       "25714"
      ]
     },
     "execution_count": 82,
     "metadata": {},
     "output_type": "execute_result"
    }
   ],
   "source": [
    "df_exp['cancel'].sum()"
   ]
  },
  {
   "cell_type": "code",
   "execution_count": 92,
   "metadata": {},
   "outputs": [
    {
     "data": {
      "text/plain": [
       "79.87698807157058"
      ]
     },
     "execution_count": 92,
     "metadata": {},
     "output_type": "execute_result"
    }
   ],
   "source": [
    "25714/32192*100"
   ]
  },
  {
   "cell_type": "code",
   "execution_count": null,
   "metadata": {},
   "outputs": [],
   "source": []
  }
 ],
 "metadata": {
  "kernelspec": {
   "display_name": "Python 3",
   "language": "python",
   "name": "python3"
  },
  "language_info": {
   "codemirror_mode": {
    "name": "ipython",
    "version": 3
   },
   "file_extension": ".py",
   "mimetype": "text/x-python",
   "name": "python",
   "nbconvert_exporter": "python",
   "pygments_lexer": "ipython3",
   "version": "3.7.3"
  }
 },
 "nbformat": 4,
 "nbformat_minor": 2
}
